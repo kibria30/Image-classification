{
 "cells": [
  {
   "cell_type": "code",
   "execution_count": 2,
   "id": "e2d54754",
   "metadata": {
    "execution": {
     "iopub.execute_input": "2025-07-29T07:35:16.360349Z",
     "iopub.status.busy": "2025-07-29T07:35:16.360067Z",
     "iopub.status.idle": "2025-07-29T07:35:29.103412Z",
     "shell.execute_reply": "2025-07-29T07:35:29.102768Z"
    },
    "papermill": {
     "duration": 12.749276,
     "end_time": "2025-07-29T07:35:29.104947",
     "exception": false,
     "start_time": "2025-07-29T07:35:16.355671",
     "status": "completed"
    },
    "tags": []
   },
   "outputs": [],
   "source": [
    "import os\n",
    "import numpy as np\n",
    "import pandas as pd\n",
    "import torch\n",
    "import torch.nn as nn\n",
    "import torch.optim as optim\n",
    "from torchvision import datasets, transforms, models\n",
    "from torch.utils.data import DataLoader, random_split\n",
    "from torch.utils.data import Dataset, DataLoader\n",
    "from PIL import Image\n"
   ]
  },
  {
   "cell_type": "markdown",
   "id": "e683be88",
   "metadata": {
    "papermill": {
     "duration": 0.003619,
     "end_time": "2025-07-29T07:35:29.112741",
     "exception": false,
     "start_time": "2025-07-29T07:35:29.109122",
     "status": "completed"
    },
    "tags": []
   },
   "source": [
    "### Lets analyze the files"
   ]
  },
  {
   "cell_type": "code",
   "execution_count": 3,
   "id": "aee15ff7",
   "metadata": {
    "execution": {
     "iopub.execute_input": "2025-07-29T07:35:29.121616Z",
     "iopub.status.busy": "2025-07-29T07:35:29.120884Z",
     "iopub.status.idle": "2025-07-29T07:35:29.124827Z",
     "shell.execute_reply": "2025-07-29T07:35:29.124217Z"
    },
    "papermill": {
     "duration": 0.009478,
     "end_time": "2025-07-29T07:35:29.125956",
     "exception": false,
     "start_time": "2025-07-29T07:35:29.116478",
     "status": "completed"
    },
    "tags": []
   },
   "outputs": [],
   "source": [
    "TRAIN_PATH='/kaggle/input/binary-biplob-art-attack/Artist Classification/train'\n",
    "TEST_PATH='/kaggle/input/binary-biplob-art-attack/Artist Classification/kaggle_test'\n",
    "CLASS_MAPPINGS='/kaggle/input/binary-biplob-art-attack/Artist Classification/class_mapping.yml'"
   ]
  },
  {
   "cell_type": "code",
   "execution_count": 4,
   "id": "e02d9b92",
   "metadata": {
    "execution": {
     "iopub.execute_input": "2025-07-29T07:35:29.135076Z",
     "iopub.status.busy": "2025-07-29T07:35:29.134430Z",
     "iopub.status.idle": "2025-07-29T07:35:29.146024Z",
     "shell.execute_reply": "2025-07-29T07:35:29.145320Z"
    },
    "papermill": {
     "duration": 0.017506,
     "end_time": "2025-07-29T07:35:29.147179",
     "exception": false,
     "start_time": "2025-07-29T07:35:29.129673",
     "status": "completed"
    },
    "tags": []
   },
   "outputs": [
    {
     "data": {
      "text/plain": [
       "['Nycto',\n",
       " 'Farjan Shahriar Abeg',\n",
       " 'Teabag Stories',\n",
       " 'Salman Sakib',\n",
       " 'DarkaakArts',\n",
       " 'Icecream Stick Art',\n",
       " 'Injamamul Adittya',\n",
       " 'TarTin',\n",
       " 'Mahatab Rashid',\n",
       " 'Zarin',\n",
       " 'Inksmith',\n",
       " 'Chandra Sarkar',\n",
       " 'The Bathroom Artist',\n",
       " 'The Panicked Architect',\n",
       " 'Nishat Binte Monsur']"
      ]
     },
     "execution_count": 4,
     "metadata": {},
     "output_type": "execute_result"
    }
   ],
   "source": [
    "#Printing the number of folders\n",
    "os.listdir(TRAIN_PATH)"
   ]
  },
  {
   "cell_type": "code",
   "execution_count": 5,
   "id": "b5ba6216",
   "metadata": {
    "execution": {
     "iopub.execute_input": "2025-07-29T07:35:29.155986Z",
     "iopub.status.busy": "2025-07-29T07:35:29.155701Z",
     "iopub.status.idle": "2025-07-29T07:35:29.160407Z",
     "shell.execute_reply": "2025-07-29T07:35:29.159709Z"
    },
    "papermill": {
     "duration": 0.01048,
     "end_time": "2025-07-29T07:35:29.161599",
     "exception": false,
     "start_time": "2025-07-29T07:35:29.151119",
     "status": "completed"
    },
    "tags": []
   },
   "outputs": [
    {
     "name": "stdout",
     "output_type": "stream",
     "text": [
      "number of classes 15\n"
     ]
    }
   ],
   "source": [
    "print('number of classes', len(os.listdir(TRAIN_PATH)))"
   ]
  },
  {
   "cell_type": "markdown",
   "id": "0f29df90",
   "metadata": {
    "papermill": {
     "duration": 0.003529,
     "end_time": "2025-07-29T07:35:29.169009",
     "exception": false,
     "start_time": "2025-07-29T07:35:29.165480",
     "status": "completed"
    },
    "tags": []
   },
   "source": [
    "### The Class mappings folder contains the metadata of the dataset. When submitting, make sure you substitute each label name with its number"
   ]
  },
  {
   "cell_type": "code",
   "execution_count": 6,
   "id": "954fc746",
   "metadata": {
    "execution": {
     "iopub.execute_input": "2025-07-29T07:35:29.177764Z",
     "iopub.status.busy": "2025-07-29T07:35:29.177165Z",
     "iopub.status.idle": "2025-07-29T07:35:29.193935Z",
     "shell.execute_reply": "2025-07-29T07:35:29.192986Z"
    },
    "papermill": {
     "duration": 0.022507,
     "end_time": "2025-07-29T07:35:29.195271",
     "exception": false,
     "start_time": "2025-07-29T07:35:29.172764",
     "status": "completed"
    },
    "tags": []
   },
   "outputs": [
    {
     "name": "stdout",
     "output_type": "stream",
     "text": [
      "# Class mapping for image classification dataset\n",
      "# Maps class names (folder names) to numeric labels\n",
      "\n",
      "classes:\n",
      "  \"Chandra Sarkar\": 0\n",
      "  \"DarkaakArts\": 1\n",
      "  \"Farjan Shahriar Abeg\": 2\n",
      "  \"Icecream Stick Art\": 3\n",
      "  \"Injamamul Adittya\": 4\n",
      "  \"Inksmith\": 5\n",
      "  \"Mahatab Rashid\": 6\n",
      "  \"Nishat Binte Monsur\": 7\n",
      "  \"Nycto\": 8\n",
      "  \"Salman Sakib\": 9\n",
      "  \"TarTin\": 10\n",
      "  \"Teabag Stories\": 11\n",
      "  \"The Bathroom Artist\": 12\n",
      "  \"The Panicked Architect\": 13\n",
      "  \"Zarin\": 14\n",
      "\n",
      "# Reverse mapping (numeric labels to class names)\n",
      "labels:\n",
      "  0: \"Chandra Sarkar\"\n",
      "  1: \"DarkaakArts\"\n",
      "  2: \"Farjan Shahriar Abeg\"\n",
      "  3: \"Icecream Stick Art\"\n",
      "  4: \"Injamamul Adittya\"\n",
      "  5: \"Inksmith\"\n",
      "  6: \"Mahatab Rashid\"\n",
      "  7: \"Nishat Binte Monsur\"\n",
      "  8: \"Nycto\"\n",
      "  9: \"Salman Sakib\"\n",
      "  10: \"TarTin\"\n",
      "  11: \"Teabag Stories\"\n",
      "  12: \"The Bathroom Artist\"\n",
      "  13: \"The Panicked Architect\"\n",
      "  14: \"Zarin\"\n",
      "\n",
      "# Dataset metadata\n",
      "num_classes: 15\n",
      "dataset_name: \"Artist Classification Dataset\"\n",
      "created_date: \"2025-07-25\"\n",
      "\n"
     ]
    }
   ],
   "source": [
    "with open(CLASS_MAPPINGS) as f:\n",
    "    class_mappings=f.read();\n",
    "\n",
    "print(class_mappings)"
   ]
  },
  {
   "cell_type": "markdown",
   "id": "d79a41e0",
   "metadata": {
    "papermill": {
     "duration": 0.003844,
     "end_time": "2025-07-29T07:35:29.204079",
     "exception": false,
     "start_time": "2025-07-29T07:35:29.200235",
     "status": "completed"
    },
    "tags": []
   },
   "source": [
    "### As the images are in a dataset, we use torchvision image folder to load the dataset into from a folder"
   ]
  },
  {
   "cell_type": "code",
   "execution_count": 7,
   "id": "0c2669cb",
   "metadata": {
    "execution": {
     "iopub.execute_input": "2025-07-29T07:35:29.213300Z",
     "iopub.status.busy": "2025-07-29T07:35:29.212536Z",
     "iopub.status.idle": "2025-07-29T07:35:31.225473Z",
     "shell.execute_reply": "2025-07-29T07:35:31.224612Z"
    },
    "papermill": {
     "duration": 2.019228,
     "end_time": "2025-07-29T07:35:31.227020",
     "exception": false,
     "start_time": "2025-07-29T07:35:29.207792",
     "status": "completed"
    },
    "tags": []
   },
   "outputs": [],
   "source": [
    "dataset=datasets.ImageFolder('/kaggle/input/binary-biplob-art-attack/Artist Classification/train')"
   ]
  },
  {
   "cell_type": "code",
   "execution_count": 8,
   "id": "ed397b81",
   "metadata": {
    "execution": {
     "iopub.execute_input": "2025-07-29T07:35:31.239329Z",
     "iopub.status.busy": "2025-07-29T07:35:31.238769Z",
     "iopub.status.idle": "2025-07-29T07:35:31.244048Z",
     "shell.execute_reply": "2025-07-29T07:35:31.243300Z"
    },
    "papermill": {
     "duration": 0.012102,
     "end_time": "2025-07-29T07:35:31.245326",
     "exception": false,
     "start_time": "2025-07-29T07:35:31.233224",
     "status": "completed"
    },
    "tags": []
   },
   "outputs": [
    {
     "data": {
      "text/plain": [
       "['Chandra Sarkar',\n",
       " 'DarkaakArts',\n",
       " 'Farjan Shahriar Abeg',\n",
       " 'Icecream Stick Art',\n",
       " 'Injamamul Adittya',\n",
       " 'Inksmith',\n",
       " 'Mahatab Rashid',\n",
       " 'Nishat Binte Monsur',\n",
       " 'Nycto',\n",
       " 'Salman Sakib',\n",
       " 'TarTin',\n",
       " 'Teabag Stories',\n",
       " 'The Bathroom Artist',\n",
       " 'The Panicked Architect',\n",
       " 'Zarin']"
      ]
     },
     "execution_count": 8,
     "metadata": {},
     "output_type": "execute_result"
    }
   ],
   "source": [
    "dataset.classes"
   ]
  },
  {
   "cell_type": "markdown",
   "id": "4118703c",
   "metadata": {
    "papermill": {
     "duration": 0.004006,
     "end_time": "2025-07-29T07:35:31.253333",
     "exception": false,
     "start_time": "2025-07-29T07:35:31.249327",
     "status": "completed"
    },
    "tags": []
   },
   "source": [
    "### Splitting the Dataset"
   ]
  },
  {
   "cell_type": "code",
   "execution_count": 9,
   "id": "ff072533",
   "metadata": {
    "execution": {
     "iopub.execute_input": "2025-07-29T07:35:31.262544Z",
     "iopub.status.busy": "2025-07-29T07:35:31.262273Z",
     "iopub.status.idle": "2025-07-29T07:35:31.398509Z",
     "shell.execute_reply": "2025-07-29T07:35:31.397546Z"
    },
    "papermill": {
     "duration": 0.142602,
     "end_time": "2025-07-29T07:35:31.399938",
     "exception": false,
     "start_time": "2025-07-29T07:35:31.257336",
     "status": "completed"
    },
    "tags": []
   },
   "outputs": [
    {
     "name": "stdout",
     "output_type": "stream",
     "text": [
      "Using device: cuda\n",
      "Classes: ['Chandra Sarkar', 'DarkaakArts', 'Farjan Shahriar Abeg', 'Icecream Stick Art', 'Injamamul Adittya', 'Inksmith', 'Mahatab Rashid', 'Nishat Binte Monsur', 'Nycto', 'Salman Sakib', 'TarTin', 'Teabag Stories', 'The Bathroom Artist', 'The Panicked Architect', 'Zarin']\n",
      "Number of classes: 15\n",
      "Training samples: 538\n",
      "Validation samples: 135\n",
      "Batch size: 32\n"
     ]
    }
   ],
   "source": [
    "# 1. Device\n",
    "device = torch.device(\"cuda\" if torch.cuda.is_available() else \"cpu\")\n",
    "print(f\"Using device: {device}\")\n",
    "\n",
    "# 2. Enhanced Transforms with Data Augmentation\n",
    "train_transform = transforms.Compose([\n",
    "    transforms.Resize((256, 256)),          # Larger size for better detail\n",
    "    transforms.RandomResizedCrop(224),      # Random crop for variation\n",
    "    transforms.RandomHorizontalFlip(0.5),   # Horizontal flip\n",
    "    transforms.RandomRotation(15),          # Slight rotation\n",
    "    transforms.ColorJitter(brightness=0.2, contrast=0.2, saturation=0.2, hue=0.1),\n",
    "    transforms.RandomGrayscale(p=0.1),      # Occasional grayscale\n",
    "    transforms.ToTensor(),\n",
    "    transforms.Normalize(mean=[0.485, 0.456, 0.406], std=[0.229, 0.224, 0.225])  # ImageNet normalization\n",
    "])\n",
    "\n",
    "val_transform = transforms.Compose([\n",
    "    transforms.Resize((256, 256)),\n",
    "    transforms.CenterCrop(224),             # Center crop for validation\n",
    "    transforms.ToTensor(),\n",
    "    transforms.Normalize(mean=[0.485, 0.456, 0.406], std=[0.229, 0.224, 0.225])\n",
    "])\n",
    "\n",
    "# 3. Load datasets with different transforms\n",
    "train_dataset_temp = datasets.ImageFolder(root=TRAIN_PATH, transform=train_transform)\n",
    "val_dataset_temp = datasets.ImageFolder(root=TRAIN_PATH, transform=val_transform)\n",
    "\n",
    "print(f\"Classes: {train_dataset_temp.classes}\")\n",
    "print(f\"Number of classes: {len(train_dataset_temp.classes)}\")\n",
    "\n",
    "# 4. Split indices for consistent train/val split\n",
    "dataset_size = len(train_dataset_temp)\n",
    "train_size = int(0.8 * dataset_size)\n",
    "val_size = dataset_size - train_size\n",
    "\n",
    "# Create indices for splitting\n",
    "indices = list(range(dataset_size))\n",
    "np.random.seed(42)  # For reproducibility\n",
    "np.random.shuffle(indices)\n",
    "\n",
    "train_indices = indices[:train_size]\n",
    "val_indices = indices[train_size:]\n",
    "\n",
    "# Create datasets using SubsetRandomSampler\n",
    "from torch.utils.data import Subset\n",
    "\n",
    "train_dataset = Subset(train_dataset_temp, train_indices)\n",
    "val_dataset = Subset(val_dataset_temp, val_indices)\n",
    "\n",
    "# 5. Data loaders with better settings\n",
    "train_loader = DataLoader(\n",
    "    train_dataset, \n",
    "    batch_size=32, \n",
    "    shuffle=True,\n",
    "    num_workers=4,      # Faster data loading\n",
    "    pin_memory=True     # Better GPU transfer\n",
    ")\n",
    "val_loader = DataLoader(\n",
    "    val_dataset, \n",
    "    batch_size=32,\n",
    "    shuffle=False,\n",
    "    num_workers=4,\n",
    "    pin_memory=True\n",
    ")\n",
    "\n",
    "print(f\"Training samples: {len(train_dataset)}\")\n",
    "print(f\"Validation samples: {len(val_dataset)}\")\n",
    "print(f\"Batch size: 32\")"
   ]
  },
  {
   "cell_type": "markdown",
   "id": "0bce7e4f",
   "metadata": {
    "papermill": {
     "duration": 0.003814,
     "end_time": "2025-07-29T07:35:31.408149",
     "exception": false,
     "start_time": "2025-07-29T07:35:31.404335",
     "status": "completed"
    },
    "tags": []
   },
   "source": [
    "### Training Code"
   ]
  },
  {
   "cell_type": "code",
   "execution_count": null,
   "id": "e8bfd422",
   "metadata": {
    "execution": {
     "iopub.execute_input": "2025-07-29T07:35:31.417742Z",
     "iopub.status.busy": "2025-07-29T07:35:31.417428Z",
     "iopub.status.idle": "2025-07-29T07:39:44.074609Z",
     "shell.execute_reply": "2025-07-29T07:39:44.073567Z"
    },
    "papermill": {
     "duration": 252.663919,
     "end_time": "2025-07-29T07:39:44.076163",
     "exception": false,
     "start_time": "2025-07-29T07:35:31.412244",
     "status": "completed"
    },
    "tags": []
   },
   "outputs": [
    {
     "name": "stderr",
     "output_type": "stream",
     "text": [
      "/usr/local/lib/python3.11/dist-packages/torchvision/models/_utils.py:208: UserWarning: The parameter 'pretrained' is deprecated since 0.13 and may be removed in the future, please use 'weights' instead.\n",
      "  warnings.warn(\n",
      "/usr/local/lib/python3.11/dist-packages/torchvision/models/_utils.py:223: UserWarning: Arguments other than a weight enum or `None` for 'weights' are deprecated since 0.13 and may be removed in the future. The current behavior is equivalent to passing `weights=EfficientNet_B3_Weights.IMAGENET1K_V1`. You can also use `weights=EfficientNet_B3_Weights.DEFAULT` to get the most up-to-date weights.\n",
      "  warnings.warn(msg)\n",
      "Downloading: \"https://download.pytorch.org/models/efficientnet_b3_rwightman-b3899882.pth\" to /root/.cache/torch/hub/checkpoints/efficientnet_b3_rwightman-b3899882.pth\n",
      "100%|██████████| 47.2M/47.2M [00:00<00:00, 195MB/s]\n"
     ]
    },
    {
     "name": "stdout",
     "output_type": "stream",
     "text": [
      "Model parameters: 11,490,871\n",
      "Starting training...\n"
     ]
    },
    {
     "name": "stderr",
     "output_type": "stream",
     "text": [
      "/usr/local/lib/python3.11/dist-packages/torch/optim/lr_scheduler.py:62: UserWarning: The verbose parameter is deprecated. Please use get_last_lr() to access the learning rate.\n",
      "  warnings.warn(\n"
     ]
    },
    {
     "name": "stdout",
     "output_type": "stream",
     "text": [
      "Epoch 1/25, Batch 0/17, Loss: 2.7008\n",
      "Epoch 1/25:\n",
      "  Train Loss: 2.3164, Train Acc: 31.97%\n",
      "  Val Loss: 1.9318, Val Acc: 42.96%\n",
      "  Learning Rate: 0.001000\n",
      "  ✅ New best validation accuracy: 42.96%\n",
      "--------------------------------------------------\n",
      "Epoch 2/25, Batch 0/17, Loss: 1.7449\n",
      "Epoch 2/25:\n",
      "  Train Loss: 1.6078, Train Acc: 64.87%\n",
      "  Val Loss: 1.4237, Val Acc: 68.15%\n",
      "  Learning Rate: 0.001000\n",
      "  ✅ New best validation accuracy: 68.15%\n",
      "--------------------------------------------------\n",
      "Epoch 3/25, Batch 0/17, Loss: 1.3756\n",
      "Epoch 3/25:\n",
      "  Train Loss: 1.2528, Train Acc: 74.54%\n",
      "  Val Loss: 1.2597, Val Acc: 74.81%\n",
      "  Learning Rate: 0.001000\n",
      "  ✅ New best validation accuracy: 74.81%\n",
      "--------------------------------------------------\n",
      "Epoch 4/25, Batch 0/17, Loss: 0.8853\n",
      "Epoch 4/25:\n",
      "  Train Loss: 1.1096, Train Acc: 80.86%\n",
      "  Val Loss: 1.1631, Val Acc: 75.56%\n",
      "  Learning Rate: 0.001000\n",
      "  ✅ New best validation accuracy: 75.56%\n",
      "--------------------------------------------------\n",
      "Epoch 5/25, Batch 0/17, Loss: 0.9518\n",
      "Epoch 5/25:\n",
      "  Train Loss: 0.9596, Train Acc: 87.36%\n",
      "  Val Loss: 1.0540, Val Acc: 77.78%\n",
      "  Learning Rate: 0.001000\n",
      "  ✅ New best validation accuracy: 77.78%\n",
      "--------------------------------------------------\n",
      "Epoch 6/25, Batch 0/17, Loss: 1.0229\n",
      "Epoch 6/25:\n",
      "  Train Loss: 0.9154, Train Acc: 89.22%\n",
      "  Val Loss: 1.1777, Val Acc: 77.78%\n",
      "  Learning Rate: 0.001000\n",
      "  No improvement. Patience: 1/7\n",
      "--------------------------------------------------\n",
      "Epoch 7/25, Batch 0/17, Loss: 0.8908\n",
      "Epoch 7/25:\n",
      "  Train Loss: 0.8831, Train Acc: 89.78%\n",
      "  Val Loss: 1.1135, Val Acc: 74.81%\n",
      "  Learning Rate: 0.001000\n",
      "  No improvement. Patience: 2/7\n",
      "--------------------------------------------------\n",
      "Epoch 8/25, Batch 0/17, Loss: 0.7839\n",
      "Epoch 8/25:\n",
      "  Train Loss: 0.8801, Train Acc: 90.89%\n",
      "  Val Loss: 1.2112, Val Acc: 77.78%\n",
      "  Learning Rate: 0.001000\n",
      "  No improvement. Patience: 3/7\n",
      "--------------------------------------------------\n",
      "Epoch 9/25, Batch 0/17, Loss: 0.6679\n",
      "Epoch 9/25:\n",
      "  Train Loss: 0.8178, Train Acc: 91.45%\n",
      "  Val Loss: 1.0606, Val Acc: 74.07%\n",
      "  Learning Rate: 0.000500\n",
      "  No improvement. Patience: 4/7\n",
      "--------------------------------------------------\n",
      "Epoch 10/25, Batch 0/17, Loss: 0.8544\n",
      "Epoch 10/25:\n",
      "  Train Loss: 0.7850, Train Acc: 92.75%\n",
      "  Val Loss: 1.0372, Val Acc: 77.04%\n",
      "  Learning Rate: 0.000500\n",
      "  No improvement. Patience: 5/7\n",
      "--------------------------------------------------\n",
      "Epoch 11/25, Batch 0/17, Loss: 0.9539\n",
      "Epoch 11/25:\n",
      "  Train Loss: 0.7613, Train Acc: 94.80%\n",
      "  Val Loss: 1.0206, Val Acc: 77.78%\n",
      "  Learning Rate: 0.000500\n",
      "  No improvement. Patience: 6/7\n",
      "--------------------------------------------------\n",
      "Epoch 12/25, Batch 0/17, Loss: 0.6670\n",
      "Epoch 12/25:\n",
      "  Train Loss: 0.7466, Train Acc: 94.80%\n",
      "  Val Loss: 1.0454, Val Acc: 78.52%\n",
      "  Learning Rate: 0.000500\n",
      "  ✅ New best validation accuracy: 78.52%\n",
      "--------------------------------------------------\n",
      "Epoch 13/25, Batch 0/17, Loss: 0.7456\n",
      "Epoch 13/25:\n",
      "  Train Loss: 0.7414, Train Acc: 95.35%\n",
      "  Val Loss: 1.0019, Val Acc: 80.00%\n",
      "  Learning Rate: 0.000500\n",
      "  ✅ New best validation accuracy: 80.00%\n",
      "--------------------------------------------------\n",
      "Epoch 14/25, Batch 0/17, Loss: 0.7779\n",
      "Epoch 14/25:\n",
      "  Train Loss: 0.6907, Train Acc: 97.40%\n",
      "  Val Loss: 0.9939, Val Acc: 77.78%\n",
      "  Learning Rate: 0.000500\n",
      "  No improvement. Patience: 1/7\n",
      "--------------------------------------------------\n",
      "Epoch 15/25, Batch 0/17, Loss: 0.6400\n",
      "Epoch 15/25:\n",
      "  Train Loss: 0.6818, Train Acc: 97.03%\n",
      "  Val Loss: 1.0151, Val Acc: 78.52%\n",
      "  Learning Rate: 0.000500\n",
      "  No improvement. Patience: 2/7\n",
      "--------------------------------------------------\n",
      "Epoch 16/25, Batch 0/17, Loss: 0.7612\n",
      "Epoch 16/25:\n",
      "  Train Loss: 0.6913, Train Acc: 96.65%\n",
      "  Val Loss: 0.9361, Val Acc: 80.00%\n",
      "  Learning Rate: 0.000500\n",
      "  No improvement. Patience: 3/7\n",
      "--------------------------------------------------\n",
      "Epoch 17/25, Batch 0/17, Loss: 0.6363\n",
      "Epoch 17/25:\n",
      "  Train Loss: 0.7078, Train Acc: 94.42%\n",
      "  Val Loss: 0.9824, Val Acc: 77.04%\n",
      "  Learning Rate: 0.000250\n",
      "  No improvement. Patience: 4/7\n",
      "--------------------------------------------------\n",
      "Epoch 18/25, Batch 0/17, Loss: 0.6342\n",
      "Epoch 18/25:\n",
      "  Train Loss: 0.6770, Train Acc: 96.84%\n",
      "  Val Loss: 0.9587, Val Acc: 79.26%\n",
      "  Learning Rate: 0.000250\n",
      "  No improvement. Patience: 5/7\n",
      "--------------------------------------------------\n",
      "Epoch 19/25, Batch 0/17, Loss: 0.7588\n",
      "Epoch 19/25:\n",
      "  Train Loss: 0.6943, Train Acc: 95.54%\n",
      "  Val Loss: 0.9623, Val Acc: 80.74%\n",
      "  Learning Rate: 0.000250\n",
      "  ✅ New best validation accuracy: 80.74%\n",
      "--------------------------------------------------\n",
      "Epoch 20/25, Batch 0/17, Loss: 0.6446\n",
      "Epoch 20/25:\n",
      "  Train Loss: 0.6575, Train Acc: 98.14%\n",
      "  Val Loss: 0.9798, Val Acc: 80.00%\n",
      "  Learning Rate: 0.000250\n",
      "  No improvement. Patience: 1/7\n",
      "--------------------------------------------------\n",
      "Epoch 21/25, Batch 0/17, Loss: 0.6677\n",
      "Epoch 21/25:\n",
      "  Train Loss: 0.6526, Train Acc: 98.33%\n",
      "  Val Loss: 0.9802, Val Acc: 80.00%\n",
      "  Learning Rate: 0.000250\n",
      "  No improvement. Patience: 2/7\n",
      "--------------------------------------------------\n",
      "Epoch 22/25, Batch 0/17, Loss: 0.6317\n",
      "Epoch 22/25:\n",
      "  Train Loss: 0.6619, Train Acc: 98.51%\n",
      "  Val Loss: 0.9713, Val Acc: 80.74%\n",
      "  Learning Rate: 0.000250\n",
      "  No improvement. Patience: 3/7\n",
      "--------------------------------------------------\n",
      "Epoch 23/25, Batch 0/17, Loss: 0.6814\n",
      "Epoch 23/25:\n",
      "  Train Loss: 0.6587, Train Acc: 96.84%\n",
      "  Val Loss: 0.9771, Val Acc: 80.74%\n",
      "  Learning Rate: 0.000125\n",
      "  No improvement. Patience: 4/7\n",
      "--------------------------------------------------\n",
      "Epoch 24/25, Batch 0/17, Loss: 0.6323\n",
      "Epoch 24/25:\n",
      "  Train Loss: 0.6432, Train Acc: 98.51%\n",
      "  Val Loss: 0.9658, Val Acc: 80.74%\n",
      "  Learning Rate: 0.000125\n",
      "  No improvement. Patience: 5/7\n",
      "--------------------------------------------------\n",
      "Epoch 25/25, Batch 0/17, Loss: 0.6167\n",
      "Epoch 25/25:\n",
      "  Train Loss: 0.6178, Train Acc: 99.44%\n",
      "  Val Loss: 0.9441, Val Acc: 82.22%\n",
      "  Learning Rate: 0.000125\n",
      "  ✅ New best validation accuracy: 82.22%\n",
      "--------------------------------------------------\n",
      "Training completed! Best validation accuracy: 82.22%\n"
     ]
    }
   ],
   "source": [
    "from torchvision.models import efficientnet_b3\n",
    "import torch.nn.functional as F\n",
    "\n",
    "model = efficientnet_b3(pretrained=True)\n",
    "model.classifier = nn.Sequential(\n",
    "    nn.Dropout(0.3),\n",
    "    nn.Linear(model.classifier[1].in_features, 512),\n",
    "    nn.ReLU(),\n",
    "    nn.Dropout(0.3),\n",
    "    nn.Linear(512, len(train_dataset_temp.classes))\n",
    ")\n",
    "model = model.to(device)\n",
    "\n",
    "print(f\"Model parameters: {sum(p.numel() for p in model.parameters()):,}\")\n",
    "\n",
    "# 6. Advanced Loss & optimizer\n",
    "criterion = nn.CrossEntropyLoss(label_smoothing=0.1)  # Label smoothing for better generalization\n",
    "optimizer = optim.AdamW(model.parameters(), lr=0.001, weight_decay=0.01)  # AdamW with weight decay\n",
    "\n",
    "# Learning rate scheduler\n",
    "from torch.optim.lr_scheduler import ReduceLROnPlateau, OneCycleLR\n",
    "scheduler = ReduceLROnPlateau(optimizer, mode='max', factor=0.5, patience=3, verbose=True)\n",
    "\n",
    "# 7. Enhanced Training loop with early stopping\n",
    "epochs = 25  # More epochs\n",
    "best_val_acc = 0.0\n",
    "patience = 7\n",
    "patience_counter = 0\n",
    "\n",
    "train_losses = []\n",
    "train_accuracies = []\n",
    "val_accuracies = []\n",
    "\n",
    "print(\"Starting training...\")\n",
    "for epoch in range(epochs):\n",
    "    # Training phase\n",
    "    model.train()\n",
    "    running_loss = 0.0\n",
    "    correct = 0\n",
    "    total = 0\n",
    "\n",
    "    for batch_idx, (images, labels) in enumerate(train_loader):\n",
    "        images, labels = images.to(device), labels.to(device)\n",
    "\n",
    "        outputs = model(images)\n",
    "        loss = criterion(outputs, labels)\n",
    "\n",
    "        optimizer.zero_grad()\n",
    "        loss.backward()\n",
    "        optimizer.step()\n",
    "\n",
    "        running_loss += loss.item()\n",
    "        _, predicted = torch.max(outputs.data, 1)\n",
    "        total += labels.size(0)\n",
    "        correct += (predicted == labels).sum().item()\n",
    "\n",
    "        # Print progress every 50 batches\n",
    "        if batch_idx % 50 == 0:\n",
    "            print(f'Epoch {epoch+1}/{epochs}, Batch {batch_idx}/{len(train_loader)}, Loss: {loss.item():.4f}')\n",
    "\n",
    "    train_acc = 100 * correct / total\n",
    "    avg_train_loss = running_loss / len(train_loader)\n",
    "    \n",
    "    train_losses.append(avg_train_loss)\n",
    "    train_accuracies.append(train_acc)\n",
    "\n",
    "    # Validation phase\n",
    "    model.eval()\n",
    "    val_correct = 0\n",
    "    val_total = 0\n",
    "    val_loss = 0.0\n",
    "    \n",
    "    with torch.no_grad():\n",
    "        for images, labels in val_loader:\n",
    "            images, labels = images.to(device), labels.to(device)\n",
    "            outputs = model(images)\n",
    "            loss = criterion(outputs, labels)\n",
    "            \n",
    "            val_loss += loss.item()\n",
    "            _, predicted = torch.max(outputs, 1)\n",
    "            val_total += labels.size(0)\n",
    "            val_correct += (predicted == labels).sum().item()\n",
    "    \n",
    "    val_acc = 100 * val_correct / val_total\n",
    "    val_accuracies.append(val_acc)\n",
    "    \n",
    "    # Learning rate scheduling\n",
    "    scheduler.step(val_acc)\n",
    "    \n",
    "    print(f\"Epoch {epoch+1}/{epochs}:\")\n",
    "    print(f\"  Train Loss: {avg_train_loss:.4f}, Train Acc: {train_acc:.2f}%\")\n",
    "    print(f\"  Val Loss: {val_loss/len(val_loader):.4f}, Val Acc: {val_acc:.2f}%\")\n",
    "    print(f\"  Learning Rate: {optimizer.param_groups[0]['lr']:.6f}\")\n",
    "    \n",
    "    # Early stopping and model saving\n",
    "    if val_acc > best_val_acc:\n",
    "        best_val_acc = val_acc\n",
    "        patience_counter = 0\n",
    "        torch.save({\n",
    "            'epoch': epoch,\n",
    "            'model_state_dict': model.state_dict(),\n",
    "            'optimizer_state_dict': optimizer.state_dict(),\n",
    "            'val_acc': val_acc,\n",
    "        }, 'best_model.pth')\n",
    "        print(f\"  ✅ New best validation accuracy: {val_acc:.2f}%\")\n",
    "    else:\n",
    "        patience_counter += 1\n",
    "        print(f\"  No improvement. Patience: {patience_counter}/{patience}\")\n",
    "    \n",
    "    if patience_counter >= patience:\n",
    "        print(f\"Early stopping triggered after {epoch+1} epochs\")\n",
    "        break\n",
    "    \n",
    "    print(\"-\" * 50)\n",
    "\n",
    "print(f\"Training completed! Best validation accuracy: {best_val_acc:.2f}%\")"
   ]
  },
  {
   "cell_type": "markdown",
   "id": "ef315d8a",
   "metadata": {},
   "source": [
    "# Load best model"
   ]
  },
  {
   "cell_type": "code",
   "execution_count": null,
   "id": "c6c6271b",
   "metadata": {},
   "outputs": [],
   "source": [
    "checkpoint = torch.load('best_model.pth')\n",
    "model.load_state_dict(checkpoint['model_state_dict'])\n",
    "print(f\"Loaded best model with validation accuracy: {checkpoint['val_acc']:.2f}%\")"
   ]
  },
  {
   "cell_type": "markdown",
   "id": "a6602926",
   "metadata": {},
   "source": [
    "# Enhanced test transform (same as validation)"
   ]
  },
  {
   "cell_type": "code",
   "execution_count": null,
   "id": "b752a131",
   "metadata": {},
   "outputs": [],
   "source": [
    "test_transform = transforms.Compose([\n",
    "    transforms.Resize((256, 256)),\n",
    "    transforms.CenterCrop(224),\n",
    "    transforms.ToTensor(),\n",
    "    transforms.Normalize(mean=[0.485, 0.456, 0.406], std=[0.229, 0.224, 0.225])\n",
    "])\n",
    "\n",
    "# Test Time Augmentation transforms\n",
    "tta_transforms = [\n",
    "    transforms.Compose([\n",
    "        transforms.Resize((256, 256)),\n",
    "        transforms.CenterCrop(224),\n",
    "        transforms.ToTensor(),\n",
    "        transforms.Normalize(mean=[0.485, 0.456, 0.406], std=[0.229, 0.224, 0.225])\n",
    "    ]),\n",
    "    transforms.Compose([\n",
    "        transforms.Resize((256, 256)),\n",
    "        transforms.CenterCrop(224),\n",
    "        transforms.RandomHorizontalFlip(p=1.0),  # Always flip\n",
    "        transforms.ToTensor(),\n",
    "        transforms.Normalize(mean=[0.485, 0.456, 0.406], std=[0.229, 0.224, 0.225])\n",
    "    ]),\n",
    "    transforms.Compose([\n",
    "        transforms.Resize((256, 256)),\n",
    "        transforms.CenterCrop(224),\n",
    "        transforms.RandomRotation(degrees=5),\n",
    "        transforms.ToTensor(),\n",
    "        transforms.Normalize(mean=[0.485, 0.456, 0.406], std=[0.229, 0.224, 0.225])\n",
    "    ])\n",
    "]"
   ]
  },
  {
   "cell_type": "markdown",
   "id": "48e54db4",
   "metadata": {},
   "source": [
    "# Enhanced Custom Dataset for test folder"
   ]
  },
  {
   "cell_type": "code",
   "execution_count": null,
   "id": "972f257c",
   "metadata": {},
   "outputs": [],
   "source": [
    "class InferenceDataset(Dataset):\n",
    "    def __init__(self, folder_path, transform=None, tta_transforms=None):\n",
    "        self.folder_path = folder_path\n",
    "        self.image_paths = sorted([os.path.join(folder_path, fname) \n",
    "                            for fname in os.listdir(folder_path) \n",
    "                            if fname.lower().endswith(('.png', '.jpg', '.jpeg'))])\n",
    "        self.transform = transform\n",
    "        self.tta_transforms = tta_transforms\n",
    "\n",
    "    def __len__(self):\n",
    "        return len(self.image_paths)\n",
    "\n",
    "    def __getitem__(self, idx):\n",
    "        img_path = self.image_paths[idx]\n",
    "        img = Image.open(img_path).convert(\"RGB\")\n",
    "        \n",
    "        if self.tta_transforms:\n",
    "            # Return multiple augmented versions\n",
    "            images = []\n",
    "            for transform in self.tta_transforms:\n",
    "                images.append(transform(img))\n",
    "            return images, img_path\n",
    "        else:\n",
    "            if self.transform:\n",
    "                img = self.transform(img)\n",
    "            return img, img_path\n",
    "\n",
    "# Create dataset with TTA\n",
    "test_dataset = InferenceDataset(TEST_PATH, tta_transforms=tta_transforms)\n",
    "test_loader = DataLoader(test_dataset, batch_size=8, shuffle=False, num_workers=4)  # Smaller batch for TTA"
   ]
  },
  {
   "cell_type": "markdown",
   "id": "4f34ade0",
   "metadata": {},
   "source": [
    "# Inference with Test Time Augmentation"
   ]
  },
  {
   "cell_type": "code",
   "execution_count": null,
   "id": "cea72961",
   "metadata": {
    "execution": {
     "iopub.execute_input": "2025-07-29T07:39:44.092179Z",
     "iopub.status.busy": "2025-07-29T07:39:44.091819Z",
     "iopub.status.idle": "2025-07-29T07:40:28.540524Z",
     "shell.execute_reply": "2025-07-29T07:40:28.539786Z"
    },
    "papermill": {
     "duration": 44.458743,
     "end_time": "2025-07-29T07:40:28.541992",
     "exception": false,
     "start_time": "2025-07-29T07:39:44.083249",
     "status": "completed"
    },
    "tags": []
   },
   "outputs": [
    {
     "name": "stdout",
     "output_type": "stream",
     "text": [
      "Loaded best model with validation accuracy: 82.22%\n",
      "Starting inference with Test Time Augmentation...\n",
      "Processed 0/882 images\n",
      "Processed 160/882 images\n",
      "Processed 320/882 images\n",
      "Processed 480/882 images\n",
      "Processed 640/882 images\n",
      "Processed 800/882 images\n",
      "Generated predictions for 882 images\n",
      "\n",
      "Prediction distribution:\n",
      "class_id\n",
      "0      36\n",
      "1      72\n",
      "2      42\n",
      "3     100\n",
      "4      32\n",
      "5      49\n",
      "6      32\n",
      "7      45\n",
      "8      62\n",
      "9      52\n",
      "10     22\n",
      "11    154\n",
      "12     46\n",
      "13     58\n",
      "14     80\n",
      "Name: count, dtype: int64\n",
      "\n",
      "✅ Submission saved! Shape: (882, 2)\n"
     ]
    },
    {
     "data": {
      "text/html": [
       "<div>\n",
       "<style scoped>\n",
       "    .dataframe tbody tr th:only-of-type {\n",
       "        vertical-align: middle;\n",
       "    }\n",
       "\n",
       "    .dataframe tbody tr th {\n",
       "        vertical-align: top;\n",
       "    }\n",
       "\n",
       "    .dataframe thead th {\n",
       "        text-align: right;\n",
       "    }\n",
       "</style>\n",
       "<table border=\"1\" class=\"dataframe\">\n",
       "  <thead>\n",
       "    <tr style=\"text-align: right;\">\n",
       "      <th></th>\n",
       "      <th>ID</th>\n",
       "      <th>label</th>\n",
       "    </tr>\n",
       "  </thead>\n",
       "  <tbody>\n",
       "    <tr>\n",
       "      <th>0</th>\n",
       "      <td>026uepzn.jpg</td>\n",
       "      <td>10</td>\n",
       "    </tr>\n",
       "    <tr>\n",
       "      <th>1</th>\n",
       "      <td>02yvvnc9.jpg</td>\n",
       "      <td>11</td>\n",
       "    </tr>\n",
       "    <tr>\n",
       "      <th>2</th>\n",
       "      <td>03c2jl5c.jpg</td>\n",
       "      <td>14</td>\n",
       "    </tr>\n",
       "    <tr>\n",
       "      <th>3</th>\n",
       "      <td>03wyn3bo.jpg</td>\n",
       "      <td>14</td>\n",
       "    </tr>\n",
       "    <tr>\n",
       "      <th>4</th>\n",
       "      <td>03xrzzqn.jpg</td>\n",
       "      <td>7</td>\n",
       "    </tr>\n",
       "  </tbody>\n",
       "</table>\n",
       "</div>"
      ],
      "text/plain": [
       "             ID  label\n",
       "0  026uepzn.jpg     10\n",
       "1  02yvvnc9.jpg     11\n",
       "2  03c2jl5c.jpg     14\n",
       "3  03wyn3bo.jpg     14\n",
       "4  03xrzzqn.jpg      7"
      ]
     },
     "execution_count": 11,
     "metadata": {},
     "output_type": "execute_result"
    }
   ],
   "source": [
    "model.eval()\n",
    "results = []\n",
    "\n",
    "print(\"Starting inference with Test Time Augmentation...\")\n",
    "with torch.no_grad():\n",
    "    for batch_idx, (images_list, paths) in enumerate(test_loader):\n",
    "        batch_predictions = []\n",
    "        \n",
    "        for img_idx in range(len(paths)):\n",
    "            # Get all TTA versions for this image\n",
    "            tta_predictions = []\n",
    "            \n",
    "            for tta_idx in range(len(tta_transforms)):\n",
    "                img = images_list[tta_idx][img_idx].unsqueeze(0).to(device)\n",
    "                output = model(img)\n",
    "                prob = torch.softmax(output, dim=1)\n",
    "                tta_predictions.append(prob.cpu())\n",
    "            \n",
    "            # Average predictions across TTA\n",
    "            avg_prediction = torch.mean(torch.stack(tta_predictions), dim=0)\n",
    "            pred_class = torch.argmax(avg_prediction, dim=1).item()\n",
    "            confidence = avg_prediction[0][pred_class].item()\n",
    "            \n",
    "            results.append({\n",
    "                \"image_id\": os.path.basename(paths[img_idx]),\n",
    "                \"class_id\": pred_class,\n",
    "                \"confidence\": round(confidence, 4)\n",
    "            })\n",
    "        \n",
    "        if batch_idx % 20 == 0:\n",
    "            print(f\"Processed {batch_idx * test_loader.batch_size}/{len(test_dataset)} images\")\n",
    "\n",
    "# Create submission DataFrame\n",
    "df = pd.DataFrame(results)\n",
    "print(f\"Generated predictions for {len(df)} images\")\n",
    "print(\"\\nPrediction distribution:\")\n",
    "print(df['class_id'].value_counts().sort_index())\n",
    "\n",
    "# Load sample submission and create final submission\n",
    "submission = pd.read_csv('/kaggle/input/binary-biplob-art-attack/sample_submission.csv')\n",
    "submission['label'] = df['class_id']\n",
    "submission.to_csv('submission.csv', index=False)\n",
    "\n",
    "print(f\"\\n✅ Submission saved! Shape: {submission.shape}\")\n",
    "submission.head()"
   ]
  },
  {
   "cell_type": "markdown",
   "id": "fc9fb165",
   "metadata": {},
   "source": [
    "# Visualize training progress"
   ]
  },
  {
   "cell_type": "code",
   "execution_count": null,
   "id": "2da95bac",
   "metadata": {
    "execution": {
     "iopub.execute_input": "2025-07-29T07:40:28.559799Z",
     "iopub.status.busy": "2025-07-29T07:40:28.559071Z",
     "iopub.status.idle": "2025-07-29T07:40:29.792371Z",
     "shell.execute_reply": "2025-07-29T07:40:29.791501Z"
    },
    "papermill": {
     "duration": 1.244255,
     "end_time": "2025-07-29T07:40:29.794044",
     "exception": false,
     "start_time": "2025-07-29T07:40:28.549789",
     "status": "completed"
    },
    "tags": []
   },
   "outputs": [
    {
     "data": {
      "image/png": "[encoded data removed]",
      "text/plain": [
       "<Figure size 1500x500 with 2 Axes>"
      ]
     },
     "metadata": {},
     "output_type": "display_data"
    },
    {
     "name": "stdout",
     "output_type": "stream",
     "text": [
      "📊 Training Summary:\n",
      "  - Epochs completed: 25\n",
      "  - Best validation accuracy: 82.22%\n",
      "  - Final training accuracy: 99.44%\n",
      "  - Final validation accuracy: 82.22%\n"
     ]
    },
    {
     "data": {
      "text/plain": [
       "count    882.000000\n",
       "mean       0.780408\n",
       "std        0.204121\n",
       "min        0.154400\n",
       "25%        0.694100\n",
       "50%        0.880850\n",
       "75%        0.922700\n",
       "max        0.981200\n",
       "Name: confidence, dtype: float64"
      ]
     },
     "execution_count": 12,
     "metadata": {},
     "output_type": "execute_result"
    }
   ],
   "source": [
    "import matplotlib.pyplot as plt\n",
    "\n",
    "fig, (ax1, ax2) = plt.subplots(1, 2, figsize=(15, 5))\n",
    "\n",
    "# Plot training loss\n",
    "ax1.plot(train_losses, label='Training Loss', color='blue')\n",
    "ax1.set_title('Training Loss Over Time')\n",
    "ax1.set_xlabel('Epoch')\n",
    "ax1.set_ylabel('Loss')\n",
    "ax1.legend()\n",
    "ax1.grid(True)\n",
    "\n",
    "# Plot accuracies\n",
    "epochs_completed = len(train_accuracies)\n",
    "ax2.plot(range(1, epochs_completed + 1), train_accuracies, label='Training Accuracy', color='blue')\n",
    "ax2.plot(range(1, epochs_completed + 1), val_accuracies, label='Validation Accuracy', color='red')\n",
    "ax2.set_title('Model Accuracy Over Time')\n",
    "ax2.set_xlabel('Epoch')\n",
    "ax2.set_ylabel('Accuracy (%)')\n",
    "ax2.legend()\n",
    "ax2.grid(True)\n",
    "\n",
    "plt.tight_layout()\n",
    "plt.savefig('training_progress.png', dpi=300, bbox_inches='tight')\n",
    "plt.show()\n",
    "\n",
    "# Print final statistics\n",
    "print(f\"📊 Training Summary:\")\n",
    "print(f\"  - Epochs completed: {epochs_completed}\")\n",
    "print(f\"  - Best validation accuracy: {best_val_acc:.2f}%\")\n",
    "print(f\"  - Final training accuracy: {train_accuracies[-1]:.2f}%\")\n",
    "print(f\"  - Final validation accuracy: {val_accuracies[-1]:.2f}%\")\n",
    "\n",
    "# Show prediction confidence distribution\n",
    "df['confidence'].describe()"
   ]
  },
  {
   "cell_type": "markdown",
   "id": "7db63a8b",
   "metadata": {},
   "source": [
    "# Preparing Submission file"
   ]
  },
  {
   "cell_type": "code",
   "execution_count": 13,
   "id": "45d847eb",
   "metadata": {
    "execution": {
     "iopub.execute_input": "2025-07-29T07:40:29.812628Z",
     "iopub.status.busy": "2025-07-29T07:40:29.812329Z",
     "iopub.status.idle": "2025-07-29T07:40:29.818334Z",
     "shell.execute_reply": "2025-07-29T07:40:29.817697Z"
    },
    "papermill": {
     "duration": 0.016422,
     "end_time": "2025-07-29T07:40:29.819598",
     "exception": false,
     "start_time": "2025-07-29T07:40:29.803176",
     "status": "completed"
    },
    "tags": []
   },
   "outputs": [],
   "source": [
    "submission=pd.read_csv('/kaggle/input/binary-biplob-art-attack/sample_submission.csv')"
   ]
  },
  {
   "cell_type": "code",
   "execution_count": 14,
   "id": "375a38f9",
   "metadata": {
    "execution": {
     "iopub.execute_input": "2025-07-29T07:40:29.837839Z",
     "iopub.status.busy": "2025-07-29T07:40:29.837542Z",
     "iopub.status.idle": "2025-07-29T07:40:29.848198Z",
     "shell.execute_reply": "2025-07-29T07:40:29.847530Z"
    },
    "papermill": {
     "duration": 0.021058,
     "end_time": "2025-07-29T07:40:29.849336",
     "exception": false,
     "start_time": "2025-07-29T07:40:29.828278",
     "status": "completed"
    },
    "tags": []
   },
   "outputs": [
    {
     "data": {
      "text/html": [
       "<div>\n",
       "<style scoped>\n",
       "    .dataframe tbody tr th:only-of-type {\n",
       "        vertical-align: middle;\n",
       "    }\n",
       "\n",
       "    .dataframe tbody tr th {\n",
       "        vertical-align: top;\n",
       "    }\n",
       "\n",
       "    .dataframe thead th {\n",
       "        text-align: right;\n",
       "    }\n",
       "</style>\n",
       "<table border=\"1\" class=\"dataframe\">\n",
       "  <thead>\n",
       "    <tr style=\"text-align: right;\">\n",
       "      <th></th>\n",
       "      <th>ID</th>\n",
       "      <th>label</th>\n",
       "    </tr>\n",
       "  </thead>\n",
       "  <tbody>\n",
       "    <tr>\n",
       "      <th>0</th>\n",
       "      <td>026uepzn.jpg</td>\n",
       "      <td>1</td>\n",
       "    </tr>\n",
       "    <tr>\n",
       "      <th>1</th>\n",
       "      <td>02yvvnc9.jpg</td>\n",
       "      <td>1</td>\n",
       "    </tr>\n",
       "    <tr>\n",
       "      <th>2</th>\n",
       "      <td>03c2jl5c.jpg</td>\n",
       "      <td>1</td>\n",
       "    </tr>\n",
       "    <tr>\n",
       "      <th>3</th>\n",
       "      <td>03wyn3bo.jpg</td>\n",
       "      <td>1</td>\n",
       "    </tr>\n",
       "    <tr>\n",
       "      <th>4</th>\n",
       "      <td>03xrzzqn.jpg</td>\n",
       "      <td>1</td>\n",
       "    </tr>\n",
       "    <tr>\n",
       "      <th>...</th>\n",
       "      <td>...</td>\n",
       "      <td>...</td>\n",
       "    </tr>\n",
       "    <tr>\n",
       "      <th>877</th>\n",
       "      <td>zga2111o.jpg</td>\n",
       "      <td>1</td>\n",
       "    </tr>\n",
       "    <tr>\n",
       "      <th>878</th>\n",
       "      <td>zr162797.jpg</td>\n",
       "      <td>1</td>\n",
       "    </tr>\n",
       "    <tr>\n",
       "      <th>879</th>\n",
       "      <td>zujm17rt.jpg</td>\n",
       "      <td>1</td>\n",
       "    </tr>\n",
       "    <tr>\n",
       "      <th>880</th>\n",
       "      <td>zx2md9uk.jpg</td>\n",
       "      <td>1</td>\n",
       "    </tr>\n",
       "    <tr>\n",
       "      <th>881</th>\n",
       "      <td>zxra6q8y.jpg</td>\n",
       "      <td>1</td>\n",
       "    </tr>\n",
       "  </tbody>\n",
       "</table>\n",
       "<p>882 rows × 2 columns</p>\n",
       "</div>"
      ],
      "text/plain": [
       "               ID  label\n",
       "0    026uepzn.jpg      1\n",
       "1    02yvvnc9.jpg      1\n",
       "2    03c2jl5c.jpg      1\n",
       "3    03wyn3bo.jpg      1\n",
       "4    03xrzzqn.jpg      1\n",
       "..            ...    ...\n",
       "877  zga2111o.jpg      1\n",
       "878  zr162797.jpg      1\n",
       "879  zujm17rt.jpg      1\n",
       "880  zx2md9uk.jpg      1\n",
       "881  zxra6q8y.jpg      1\n",
       "\n",
       "[882 rows x 2 columns]"
      ]
     },
     "execution_count": 14,
     "metadata": {},
     "output_type": "execute_result"
    }
   ],
   "source": [
    "submission"
   ]
  },
  {
   "cell_type": "code",
   "execution_count": 15,
   "id": "006e4ad9",
   "metadata": {
    "execution": {
     "iopub.execute_input": "2025-07-29T07:40:29.869119Z",
     "iopub.status.busy": "2025-07-29T07:40:29.868840Z",
     "iopub.status.idle": "2025-07-29T07:40:29.877166Z",
     "shell.execute_reply": "2025-07-29T07:40:29.876496Z"
    },
    "papermill": {
     "duration": 0.019463,
     "end_time": "2025-07-29T07:40:29.878369",
     "exception": false,
     "start_time": "2025-07-29T07:40:29.858906",
     "status": "completed"
    },
    "tags": []
   },
   "outputs": [
    {
     "data": {
      "text/html": [
       "<div>\n",
       "<style scoped>\n",
       "    .dataframe tbody tr th:only-of-type {\n",
       "        vertical-align: middle;\n",
       "    }\n",
       "\n",
       "    .dataframe tbody tr th {\n",
       "        vertical-align: top;\n",
       "    }\n",
       "\n",
       "    .dataframe thead th {\n",
       "        text-align: right;\n",
       "    }\n",
       "</style>\n",
       "<table border=\"1\" class=\"dataframe\">\n",
       "  <thead>\n",
       "    <tr style=\"text-align: right;\">\n",
       "      <th></th>\n",
       "      <th>image_id</th>\n",
       "      <th>class_id</th>\n",
       "      <th>confidence</th>\n",
       "    </tr>\n",
       "  </thead>\n",
       "  <tbody>\n",
       "    <tr>\n",
       "      <th>0</th>\n",
       "      <td>026uepzn.jpg</td>\n",
       "      <td>10</td>\n",
       "      <td>0.9558</td>\n",
       "    </tr>\n",
       "    <tr>\n",
       "      <th>1</th>\n",
       "      <td>02yvvnc9.jpg</td>\n",
       "      <td>11</td>\n",
       "      <td>0.9299</td>\n",
       "    </tr>\n",
       "    <tr>\n",
       "      <th>2</th>\n",
       "      <td>03c2jl5c.jpg</td>\n",
       "      <td>14</td>\n",
       "      <td>0.9508</td>\n",
       "    </tr>\n",
       "    <tr>\n",
       "      <th>3</th>\n",
       "      <td>03wyn3bo.jpg</td>\n",
       "      <td>14</td>\n",
       "      <td>0.8290</td>\n",
       "    </tr>\n",
       "    <tr>\n",
       "      <th>4</th>\n",
       "      <td>03xrzzqn.jpg</td>\n",
       "      <td>7</td>\n",
       "      <td>0.8791</td>\n",
       "    </tr>\n",
       "  </tbody>\n",
       "</table>\n",
       "</div>"
      ],
      "text/plain": [
       "       image_id  class_id  confidence\n",
       "0  026uepzn.jpg        10      0.9558\n",
       "1  02yvvnc9.jpg        11      0.9299\n",
       "2  03c2jl5c.jpg        14      0.9508\n",
       "3  03wyn3bo.jpg        14      0.8290\n",
       "4  03xrzzqn.jpg         7      0.8791"
      ]
     },
     "execution_count": 15,
     "metadata": {},
     "output_type": "execute_result"
    }
   ],
   "source": [
    "df.head()"
   ]
  },
  {
   "cell_type": "code",
   "execution_count": 16,
   "id": "ef1cdc14",
   "metadata": {
    "execution": {
     "iopub.execute_input": "2025-07-29T07:40:29.897594Z",
     "iopub.status.busy": "2025-07-29T07:40:29.897000Z",
     "iopub.status.idle": "2025-07-29T07:40:29.900774Z",
     "shell.execute_reply": "2025-07-29T07:40:29.900138Z"
    },
    "papermill": {
     "duration": 0.014809,
     "end_time": "2025-07-29T07:40:29.902081",
     "exception": false,
     "start_time": "2025-07-29T07:40:29.887272",
     "status": "completed"
    },
    "tags": []
   },
   "outputs": [],
   "source": [
    "submission['label']=df['class_id']"
   ]
  },
  {
   "cell_type": "code",
   "execution_count": 17,
   "id": "7d506f27",
   "metadata": {
    "execution": {
     "iopub.execute_input": "2025-07-29T07:40:29.921137Z",
     "iopub.status.busy": "2025-07-29T07:40:29.920446Z",
     "iopub.status.idle": "2025-07-29T07:40:29.926215Z",
     "shell.execute_reply": "2025-07-29T07:40:29.925640Z"
    },
    "papermill": {
     "duration": 0.016732,
     "end_time": "2025-07-29T07:40:29.927465",
     "exception": false,
     "start_time": "2025-07-29T07:40:29.910733",
     "status": "completed"
    },
    "tags": []
   },
   "outputs": [],
   "source": [
    "\n",
    "submission.to_csv('submission.csv',index=False)"
   ]
  }
 ],
 "metadata": {
  "kaggle": {
   "accelerator": "gpu",
   "dataSources": [
    {
     "databundleVersionId": 13170129,
     "sourceId": 108642,
     "sourceType": "competition"
    }
   ],
   "dockerImageVersionId": 31090,
   "isGpuEnabled": true,
   "isInternetEnabled": true,
   "language": "python",
   "sourceType": "notebook"
  },
  "kernelspec": {
   "display_name": "Python 3",
   "language": "python",
   "name": "python3"
  },
  "language_info": {
   "codemirror_mode": {
    "name": "ipython",
    "version": 3
   },
   "file_extension": ".py",
   "mimetype": "text/x-python",
   "name": "python",
   "nbconvert_exporter": "python",
   "pygments_lexer": "ipython3",
   "version": "3.11.13"
  },
  "papermill": {
   "default_parameters": {},
   "duration": 320.870371,
   "end_time": "2025-07-29T07:40:32.242370",
   "environment_variables": {},
   "exception": null,
   "input_path": "__notebook__.ipynb",
   "output_path": "__notebook__.ipynb",
   "parameters": {},
   "start_time": "2025-07-29T07:35:11.371999",
   "version": "2.6.0"
  }
 },
 "nbformat": 4,
 "nbformat_minor": 5
}
